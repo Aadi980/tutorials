{
 "cells": [
  {
   "cell_type": "code",
   "execution_count": 2,
   "id": "1c2a98df-8685-46a5-a7a6-db03902bb80c",
   "metadata": {},
   "outputs": [],
   "source": [
    "import xlwings as xw"
   ]
  },
  {
   "cell_type": "markdown",
   "id": "1a63b24e-ba4e-4fae-96a2-576548844bac",
   "metadata": {
    "tags": []
   },
   "source": [
    "# Working With the Master Excel"
   ]
  },
  {
   "cell_type": "code",
   "execution_count": 3,
   "id": "3a5d19f3-10ff-48c3-9e84-3b5ad1213362",
   "metadata": {},
   "outputs": [],
   "source": [
    "master_wb = xw.Book(r\"C:\\Users\\jay\\Desktop\\PythonInOffice\\add_data_to_master_excel\\master_file.xlsx\")"
   ]
  },
  {
   "cell_type": "code",
   "execution_count": 4,
   "id": "dc7d5ae2-145d-4ced-b493-76b7b631c5be",
   "metadata": {},
   "outputs": [
    {
     "data": {
      "text/plain": [
       "Sheets([<Sheet [master_file.xlsx]Canada>, <Sheet [master_file.xlsx]USA>])"
      ]
     },
     "execution_count": 4,
     "metadata": {},
     "output_type": "execute_result"
    }
   ],
   "source": [
    "master_sheets = master_wb.sheets\n",
    "master_sheets"
   ]
  },
  {
   "cell_type": "code",
   "execution_count": 5,
   "id": "e9f78053-3930-4c3a-aa1c-9e419ea743ab",
   "metadata": {},
   "outputs": [
    {
     "data": {
      "text/plain": [
       "'Canada'"
      ]
     },
     "execution_count": 5,
     "metadata": {},
     "output_type": "execute_result"
    }
   ],
   "source": [
    "master_sheets[0].name"
   ]
  },
  {
   "cell_type": "code",
   "execution_count": 9,
   "id": "07056275-a4d8-4f04-97d3-b5bacf8e70d7",
   "metadata": {},
   "outputs": [
    {
     "data": {
      "text/plain": [
       "4"
      ]
     },
     "execution_count": 9,
     "metadata": {},
     "output_type": "execute_result"
    }
   ],
   "source": [
    "master_sheets[0].range('A1').end('down').row"
   ]
  },
  {
   "cell_type": "code",
   "execution_count": null,
   "id": "731602c9-6258-4742-a5ea-a53166976b30",
   "metadata": {},
   "outputs": [],
   "source": []
  },
  {
   "cell_type": "markdown",
   "id": "ee00ec76-733e-431b-bc5f-b0506df33693",
   "metadata": {
    "tags": []
   },
   "source": [
    "# Open & Read New Data File"
   ]
  },
  {
   "cell_type": "code",
   "execution_count": 10,
   "id": "6a08e347-8e88-4f5a-8f90-7cd42f9294c9",
   "metadata": {},
   "outputs": [],
   "source": [
    "newdata_wb = xw.Book(r\"C:\\Users\\jay\\Desktop\\PythonInOffice\\add_data_to_master_excel\\new_data.xlsx\")"
   ]
  },
  {
   "cell_type": "code",
   "execution_count": 11,
   "id": "fee8b774-09da-4003-b602-e79e2ee38970",
   "metadata": {},
   "outputs": [
    {
     "data": {
      "text/plain": [
       "<Range [new_data.xlsx]Sheet1!$A$2:$G$6>"
      ]
     },
     "execution_count": 11,
     "metadata": {},
     "output_type": "execute_result"
    }
   ],
   "source": [
    "newdata_wb.sheets[0].range('A2').expand()"
   ]
  },
  {
   "cell_type": "code",
   "execution_count": null,
   "id": "cf399b27-1c5f-4f0f-87b2-d971d046dfb6",
   "metadata": {},
   "outputs": [],
   "source": [
    "master_wb.sheets[0].range('A1').end('down') ## ctrl + down"
   ]
  },
  {
   "cell_type": "code",
   "execution_count": null,
   "id": "c3611d7a-34f9-4851-ba3b-3acf13f586b1",
   "metadata": {},
   "outputs": [],
   "source": [
    "master_wb.sheets[0].range('A1').end('down').address"
   ]
  },
  {
   "cell_type": "code",
   "execution_count": null,
   "id": "705300ae-aa99-4cdb-a961-ae38033083ff",
   "metadata": {},
   "outputs": [],
   "source": [
    "master_wb.sheets[0].range('A1').end('down').row"
   ]
  },
  {
   "cell_type": "code",
   "execution_count": 12,
   "id": "0c15312b-aacf-4a77-805e-d49b5fd99013",
   "metadata": {},
   "outputs": [],
   "source": [
    "new_data_raw = newdata_wb.sheets[0].range('A2').expand().value"
   ]
  },
  {
   "cell_type": "code",
   "execution_count": 13,
   "id": "f20c7091-b516-4620-92bf-5a130268d478",
   "metadata": {},
   "outputs": [
    {
     "data": {
      "text/plain": [
       "[['10/15/2022', 10.0, 'Waterloo', 'Canada', 'Event 10', 10.1, 1.0],\n",
       " ['10/16/2022', 11.0, 'St Louis', 'USA', 'Event 11', 10.2, 1.01],\n",
       " ['10/17/2022', 12.0, 'Boston', 'USA', 'Event 12', 10.3, 1.02],\n",
       " ['10/19/2022', 13.0, 'Ottawa', 'Canada', 'Event 13', 10.4, 111.11],\n",
       " ['4/1/2022', 5.0, 'Austin', 'USA', 'Event 5', 11.11, 1.23]]"
      ]
     },
     "execution_count": 13,
     "metadata": {},
     "output_type": "execute_result"
    }
   ],
   "source": [
    "new_data_raw"
   ]
  },
  {
   "cell_type": "code",
   "execution_count": 14,
   "id": "936396c2-8b99-4fc7-9f3d-2e3bdfb12c83",
   "metadata": {},
   "outputs": [
    {
     "data": {
      "text/plain": [
       "[['10/15/2022', 10.0, 'Waterloo', 'Event 10', 10.1, 1.0],\n",
       " ['10/19/2022', 13.0, 'Ottawa', 'Event 13', 10.4, 111.11]]"
      ]
     },
     "execution_count": 14,
     "metadata": {},
     "output_type": "execute_result"
    }
   ],
   "source": [
    "[i[0:3] + i[4:] for i in new_data_raw if i[3] == 'Canada']"
   ]
  },
  {
   "cell_type": "markdown",
   "id": "3a9572f2-4903-4118-83dd-432aa9a224ef",
   "metadata": {
    "tags": []
   },
   "source": [
    "# Add New Data to Master File"
   ]
  },
  {
   "cell_type": "code",
   "execution_count": 15,
   "id": "9287fba7-5c52-4e35-b61f-c3aa377d6d67",
   "metadata": {
    "tags": []
   },
   "outputs": [],
   "source": [
    "for s in master_sheets:\n",
    "    temp_data = [i[0:3] + i[4:] for i in new_data_raw if i[3] == s.name]\n",
    "    newrow = master_wb.sheets[s.name].range('A1').end('down').row + 1\n",
    "    master_wb.sheets[s.name].range(newrow, 1).value = temp_data\n",
    "    "
   ]
  },
  {
   "cell_type": "markdown",
   "id": "d6d27569-a509-4d45-b409-048a0434341f",
   "metadata": {
    "tags": []
   },
   "source": [
    "# Transfer Formats"
   ]
  },
  {
   "cell_type": "code",
   "execution_count": 16,
   "id": "b4baf8a7-1fc5-4d6f-82f7-beb4c8090124",
   "metadata": {},
   "outputs": [],
   "source": [
    "master_wb.sheets[0].range('A2').expand('right').copy()\n",
    "master_wb.sheets[0].range('A2').expand().paste(paste='formats')"
   ]
  },
  {
   "cell_type": "code",
   "execution_count": 17,
   "id": "0e4d9dad-b492-43c6-ac3e-e0ac97ba78b8",
   "metadata": {},
   "outputs": [],
   "source": [
    "master_wb.sheets[0].range('A5:A6').number_format = 'mm/dd/yyyy'"
   ]
  },
  {
   "cell_type": "markdown",
   "id": "d2a7973a-6649-4369-bdb4-c6c88469f40c",
   "metadata": {
    "tags": []
   },
   "source": [
    "# Save Files"
   ]
  },
  {
   "cell_type": "code",
   "execution_count": 18,
   "id": "4f7d41e9-07e7-4463-846d-7ee368c67173",
   "metadata": {},
   "outputs": [],
   "source": [
    "master_wb.save()"
   ]
  },
  {
   "cell_type": "code",
   "execution_count": null,
   "id": "4478e26d-568f-4010-890c-fd981839e216",
   "metadata": {},
   "outputs": [],
   "source": []
  }
 ],
 "metadata": {
  "kernelspec": {
   "display_name": "Python 3 (ipykernel)",
   "language": "python",
   "name": "python3"
  },
  "language_info": {
   "codemirror_mode": {
    "name": "ipython",
    "version": 3
   },
   "file_extension": ".py",
   "mimetype": "text/x-python",
   "name": "python",
   "nbconvert_exporter": "python",
   "pygments_lexer": "ipython3",
   "version": "3.9.13"
  }
 },
 "nbformat": 4,
 "nbformat_minor": 5
}
